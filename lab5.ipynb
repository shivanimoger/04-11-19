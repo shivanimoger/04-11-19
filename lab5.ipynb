{
 "cells": [
  {
   "cell_type": "code",
   "execution_count": 47,
   "metadata": {},
   "outputs": [],
   "source": [
    "import csv\n",
    "import random\n",
    "import math\n",
    "def loadcsv(filename):\n",
    "    lines=csv.reader(open(filename,\"r\"))\n",
    "    dataset=list(lines)\n",
    "    for i in range(len(dataset)):\n",
    "        dataset[i]=[float(x) for x in dataset[i]]\n",
    "    return dataset\n",
    "\n",
    "def splitdataset(dataset,splitratio):\n",
    "    trainsize=int(len(dataset)*splitratio)\n",
    "    trainset=[]\n",
    "    copy=list(dataset)\n",
    "    while len(trainset)<trainsize:\n",
    "        index=random.randrange(len(copy))\n",
    "        trainset.append(copy.pop(index))\n",
    "    return [trainset,copy]"
   ]
  },
  {
   "cell_type": "code",
   "execution_count": 48,
   "metadata": {},
   "outputs": [],
   "source": [
    "def seperatebyclass(dataset):\n",
    "    seperated={}\n",
    "    for i in range(len(dataset)):\n",
    "        vector=dataset[i]\n",
    "        if(vector[-1] not in seperated):\n",
    "            seperated[vector[-1]]=[]\n",
    "        seperated[vector[-1]].append(vector)\n",
    "    return seperated"
   ]
  },
  {
   "cell_type": "code",
   "execution_count": 49,
   "metadata": {},
   "outputs": [],
   "source": [
    "def mean(numbers):\n",
    "    return sum(numbers) /float(len(numbers))\n",
    "def stdev(numbers):\n",
    "    avg=mean(numbers)\n",
    "    variance=sum([pow(x-avg,2) for x in numbers])/float(len(numbers)-1)\n",
    "    return math.sqrt(variance)\n",
    "\n",
    "def summarize(dataset):\n",
    "    summaries=[(mean(attribute),stdev(attribute))for attribute in zip(*dataset)]\n",
    "    del summaries[-1]\n",
    "    return summaries"
   ]
  },
  {
   "cell_type": "code",
   "execution_count": 50,
   "metadata": {},
   "outputs": [],
   "source": [
    "def summarizebyclass(dataset):\n",
    "    seperated =seperatebyclass(dataset)\n",
    "    summaries={}\n",
    "    for classvalue,instances in seperated.items():\n",
    "        summaries[classvalue]=summarize(instances)\n",
    "    return summaries\n",
    "def calculateprobability(x,mean,stdev):\n",
    "    exponent =math.exp(-(math.pow(x-mean,2)/(2*math.pow(stdev,2))))\n",
    "    return (1/(math.sqrt(2*math.pi)*stdev))* exponent\n",
    "def calculateclassprobabilities(summaries,inputvector):\n",
    "    probabilities={}\n",
    "    for classvalue,classsummaries in summaries.items():\n",
    "        probabilities[classvalue]=1\n",
    "        for i in range(len(classsummaries)):\n",
    "            mean,stdev=classsummaries[i]\n",
    "            x=inputvector[i]\n",
    "            probabilities[classvalue]*=calculateprobability(x,mean,stdev)\n",
    "    return probabilities"
   ]
  },
  {
   "cell_type": "code",
   "execution_count": null,
   "metadata": {},
   "outputs": [],
   "source": []
  },
  {
   "cell_type": "code",
   "execution_count": 51,
   "metadata": {},
   "outputs": [],
   "source": [
    "def predict(summaries,inputvector):\n",
    "    probabilities=calculateclassprobabilities(summaries,inputvector)\n",
    "    bestlabel,bestprob=None,-1\n",
    "    for classvalue,probability in probabilities.items():\n",
    "        if bestlabel is None or probability>bestprob:\n",
    "            bestprob=probability\n",
    "            bestlabel=classvalue\n",
    "    return bestlabel\n",
    "def getpredictions(summaries,testset):\n",
    "    prediction=[]\n",
    "    for i in range(len(testset)):\n",
    "        result=predict(summaries,testset[i])\n",
    "        prediction.append(result)\n",
    "    return prediction"
   ]
  },
  {
   "cell_type": "code",
   "execution_count": 52,
   "metadata": {},
   "outputs": [
    {
     "name": "stdout",
     "output_type": "stream",
     "text": [
      "\n",
      " the length of the data set= 768\n",
      "\n",
      " the data set splitting into training and testing \n",
      "\n",
      "\n",
      " number of rows in training set:514rows\n",
      "\n",
      " number of rows in testing set:254rows\n",
      "\n",
      " first five rows of training set:\n",
      "\n",
      "[9.0, 154.0, 78.0, 30.0, 100.0, 30.9, 0.164, 45.0, 0.0] \n",
      "\n",
      "[8.0, 143.0, 66.0, 0.0, 0.0, 34.9, 0.129, 41.0, 1.0] \n",
      "\n",
      "[8.0, 154.0, 78.0, 32.0, 0.0, 32.4, 0.443, 45.0, 1.0] \n",
      "\n",
      "[10.0, 101.0, 86.0, 37.0, 0.0, 45.6, 1.136, 38.0, 1.0] \n",
      "\n",
      "[0.0, 165.0, 76.0, 43.0, 255.0, 47.9, 0.259, 26.0, 0.0] \n",
      "\n",
      "\n",
      " first five rows of testing set:\n",
      "\n",
      "[8.0, 183.0, 64.0, 0.0, 0.0, 23.3, 0.672, 32.0, 1.0] \n",
      "\n",
      "[1.0, 89.0, 66.0, 23.0, 94.0, 28.1, 0.167, 21.0, 0.0] \n",
      "\n",
      "[2.0, 197.0, 70.0, 45.0, 543.0, 30.5, 0.158, 53.0, 1.0] \n",
      "\n",
      "[1.0, 103.0, 30.0, 38.0, 83.0, 43.3, 0.183, 33.0, 0.0] \n",
      "\n",
      "[1.0, 115.0, 70.0, 30.0, 96.0, 34.6, 0.529, 32.0, 1.0] \n",
      "\n",
      "\n",
      " model summaries :\n",
      " {0.0: [(3.3294117647058825, 2.9990686274757996), (108.87352941176471, 25.885244926610927), (68.54411764705883, 17.398702884152467), (19.894117647058824, 15.165769194681632), (67.17647058823529, 99.45514415263257), (30.372941176470608, 7.60146528702223), (0.4329676470588236, 0.2940593153703845), (31.29705882352941, 11.758759624302801)], 1.0: [(5.074712643678161, 3.7493958940245604), (141.48850574712642, 31.371490040316495), (70.8735632183908, 21.88926656373604), (21.522988505747126, 17.636570001614054), (97.25287356321839, 140.38264952084566), (34.650574712643675, 7.50541805936424), (0.5666724137931034, 0.39679409147126904), (37.735632183908045, 10.972861709996344)]}\n",
      "\n",
      " predictions:\n",
      " [1.0, 0.0, 1.0, 0.0, 0.0, 1.0, 1.0, 1.0, 1.0, 0.0, 1.0, 1.0, 1.0, 1.0, 0.0, 1.0, 0.0, 1.0, 0.0, 0.0, 0.0, 0.0, 0.0, 0.0, 0.0, 0.0, 0.0, 1.0, 0.0, 0.0, 1.0, 0.0, 0.0, 0.0, 0.0, 1.0, 0.0, 1.0, 1.0, 1.0, 0.0, 0.0, 0.0, 0.0, 0.0, 1.0, 1.0, 0.0, 0.0, 0.0, 0.0, 1.0, 0.0, 0.0, 0.0, 0.0, 1.0, 0.0, 0.0, 0.0, 0.0, 0.0, 1.0, 0.0, 0.0, 0.0, 1.0, 0.0, 0.0, 1.0, 0.0, 0.0, 1.0, 0.0, 1.0, 1.0, 0.0, 1.0, 0.0, 1.0, 1.0, 1.0, 1.0, 1.0, 1.0, 0.0, 0.0, 1.0, 0.0, 0.0, 1.0, 1.0, 0.0, 0.0, 0.0, 1.0, 1.0, 0.0, 0.0, 0.0, 0.0, 1.0, 0.0, 0.0, 0.0, 1.0, 0.0, 1.0, 0.0, 1.0, 0.0, 1.0, 0.0, 0.0, 0.0, 0.0, 0.0, 1.0, 1.0, 0.0, 0.0, 0.0, 0.0, 1.0, 0.0, 0.0, 0.0, 0.0, 0.0, 1.0, 0.0, 1.0, 0.0, 1.0, 0.0, 1.0, 0.0, 0.0, 1.0, 0.0, 0.0, 1.0, 0.0, 0.0, 0.0, 1.0, 0.0, 0.0, 0.0, 1.0, 1.0, 0.0, 0.0, 0.0, 0.0, 0.0, 0.0, 1.0, 0.0, 0.0, 0.0, 0.0, 1.0, 1.0, 1.0, 0.0, 0.0, 0.0, 0.0, 1.0, 0.0, 1.0, 0.0, 0.0, 1.0, 1.0, 0.0, 0.0, 0.0, 0.0, 0.0, 1.0, 1.0, 0.0, 1.0, 0.0, 0.0, 0.0, 0.0, 0.0, 0.0, 1.0, 0.0, 0.0, 1.0, 1.0, 0.0, 0.0, 1.0, 1.0, 0.0, 1.0, 1.0, 0.0, 0.0, 0.0, 0.0, 0.0, 0.0, 0.0, 0.0, 1.0, 0.0, 0.0, 0.0, 1.0, 1.0, 1.0, 0.0, 1.0, 1.0, 1.0, 1.0, 1.0, 0.0, 0.0, 1.0, 0.0, 0.0, 1.0, 0.0, 1.0, 1.0, 0.0, 0.0, 0.0, 0.0, 0.0, 0.0, 0.0, 0.0, 0.0, 0.0, 0.0, 0.0, 1.0, 1.0, 1.0, 1.0, 1.0, 1.0, 1.0, 0.0, 0.0]\n",
      "\n",
      " Accuracy:75.19685039370079%\n"
     ]
    }
   ],
   "source": [
    "def getaccuracy(testset,prediction):\n",
    "    correct=0\n",
    "    for i in range(len(testset)):\n",
    "        if testset[i][-1]==prediction[i]:\n",
    "            correct+=1\n",
    "    return (correct/float(len(testset)))*100.0\n",
    "\n",
    "def main():\n",
    "    filename='/home/mite/Desktop/cs089/data5.csv'\n",
    "    splitratio=0.67\n",
    "    dataset=loadcsv(filename)\n",
    "    print(\"\\n the length of the data set=\",len(dataset))\n",
    "    print(\"\\n the data set splitting into training and testing \\n\")\n",
    "    trainingset,testset=splitdataset(dataset,splitratio)\n",
    "    print(\"\\n number of rows in training set:{0}rows\".format(len(trainingset)))\n",
    "    print(\"\\n number of rows in testing set:{0}rows\".format(len(testset)))\n",
    "    print(\"\\n first five rows of training set:\\n\")\n",
    "    for i in range(0,5):\n",
    "        print(trainingset[i],\"\\n\")  \n",
    "    print(\"\\n first five rows of testing set:\\n\")\n",
    "    for i in range(0,5):\n",
    "        print (testset[i],\"\\n\")\n",
    "    summaries=summarizebyclass(trainingset)\n",
    "    print(\"\\n model summaries :\\n\",summaries)\n",
    "    predictions=getpredictions(summaries,testset)\n",
    "    print(\"\\n predictions:\\n\",predictions)\n",
    "    accuracy=getaccuracy(testset,predictions)\n",
    "    print(\"\\n Accuracy:{0}%\".format(accuracy))\n",
    "main()\n",
    "    "
   ]
  },
  {
   "cell_type": "code",
   "execution_count": null,
   "metadata": {},
   "outputs": [],
   "source": []
  },
  {
   "cell_type": "code",
   "execution_count": null,
   "metadata": {},
   "outputs": [],
   "source": []
  },
  {
   "cell_type": "code",
   "execution_count": null,
   "metadata": {},
   "outputs": [],
   "source": []
  },
  {
   "cell_type": "code",
   "execution_count": null,
   "metadata": {},
   "outputs": [],
   "source": []
  },
  {
   "cell_type": "code",
   "execution_count": null,
   "metadata": {},
   "outputs": [],
   "source": []
  },
  {
   "cell_type": "code",
   "execution_count": null,
   "metadata": {},
   "outputs": [],
   "source": [
    "   "
   ]
  }
 ],
 "metadata": {
  "kernelspec": {
   "display_name": "Python 3",
   "language": "python",
   "name": "python3"
  },
  "language_info": {
   "codemirror_mode": {
    "name": "ipython",
    "version": 3
   },
   "file_extension": ".py",
   "mimetype": "text/x-python",
   "name": "python",
   "nbconvert_exporter": "python",
   "pygments_lexer": "ipython3",
   "version": "3.6.5"
  }
 },
 "nbformat": 4,
 "nbformat_minor": 2
}
